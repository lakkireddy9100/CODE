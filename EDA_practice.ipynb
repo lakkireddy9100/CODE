{
 "cells": [
  {
   "cell_type": "code",
   "execution_count": 3,
   "id": "3c487611",
   "metadata": {},
   "outputs": [],
   "source": [
    "import statistics\n"
   ]
  },
  {
   "cell_type": "code",
   "execution_count": 4,
   "id": "548747a8",
   "metadata": {},
   "outputs": [
    {
     "data": {
      "text/plain": [
       "73.85714285714286"
      ]
     },
     "execution_count": 4,
     "metadata": {},
     "output_type": "execute_result"
    }
   ],
   "source": [
    "a=[345,1,2,3,3,4,159]\n",
    "statistics.mean(a)"
   ]
  },
  {
   "cell_type": "code",
   "execution_count": 5,
   "id": "673f4f77",
   "metadata": {},
   "outputs": [
    {
     "data": {
      "text/plain": [
       "3"
      ]
     },
     "execution_count": 5,
     "metadata": {},
     "output_type": "execute_result"
    }
   ],
   "source": [
    "statistics.median(a)"
   ]
  },
  {
   "cell_type": "code",
   "execution_count": 6,
   "id": "040edd7a",
   "metadata": {},
   "outputs": [
    {
     "data": {
      "text/plain": [
       "3"
      ]
     },
     "execution_count": 6,
     "metadata": {},
     "output_type": "execute_result"
    }
   ],
   "source": [
    "statistics.mode(a)"
   ]
  },
  {
   "cell_type": "code",
   "execution_count": 7,
   "id": "a1c572ab",
   "metadata": {},
   "outputs": [
    {
     "data": {
      "text/plain": [
       "133.01682671931468"
      ]
     },
     "execution_count": 7,
     "metadata": {},
     "output_type": "execute_result"
    }
   ],
   "source": [
    "statistics.stdev(a)"
   ]
  },
  {
   "cell_type": "code",
   "execution_count": 8,
   "id": "12a86b95",
   "metadata": {},
   "outputs": [
    {
     "data": {
      "text/plain": [
       "17693.476190476187"
      ]
     },
     "execution_count": 8,
     "metadata": {},
     "output_type": "execute_result"
    }
   ],
   "source": [
    "statistics.variance(a)"
   ]
  },
  {
   "cell_type": "code",
   "execution_count": 9,
   "id": "0f920ab5",
   "metadata": {},
   "outputs": [
    {
     "data": {
      "text/plain": [
       "[1.1428571428571428,\n",
       " 2.2857142857142856,\n",
       " 3.0,\n",
       " 3.5714285714285716,\n",
       " 114.71428571428571,\n",
       " 318.42857142857144]"
      ]
     },
     "execution_count": 9,
     "metadata": {},
     "output_type": "execute_result"
    }
   ],
   "source": [
    "statistics.quantiles(a,n=7)"
   ]
  },
  {
   "cell_type": "code",
   "execution_count": 10,
   "id": "c69c7341",
   "metadata": {},
   "outputs": [],
   "source": [
    "import matplotlib.pyplot as plt,seaborn as sb"
   ]
  },
  {
   "cell_type": "code",
   "execution_count": 11,
   "id": "fa1e1e75",
   "metadata": {},
   "outputs": [
    {
     "data": {
      "text/plain": [
       "<AxesSubplot:>"
      ]
     },
     "execution_count": 11,
     "metadata": {},
     "output_type": "execute_result"
    },
    {
     "data": {
      "image/png": "[encoded data removed]",
      "text/plain": [
       "<Figure size 432x288 with 1 Axes>"
      ]
     },
     "metadata": {
      "needs_background": "light"
     },
     "output_type": "display_data"
    }
   ],
   "source": [
    "sb.boxplot(x=a)"
   ]
  },
  {
   "cell_type": "code",
   "execution_count": 12,
   "id": "2348fbb8",
   "metadata": {},
   "outputs": [],
   "source": [
    "import numpy as np"
   ]
  },
  {
   "cell_type": "code",
   "execution_count": 16,
   "id": "c515a6ad",
   "metadata": {},
   "outputs": [
    {
     "name": "stdout",
     "output_type": "stream",
     "text": [
      "[  0.   1.   2.   3.   4.   5.   6.   7.   8.   9.  10.  11.  12.  13.\n",
      "  14.  15.  16.  17.  18.  19.  20.  21.  22.  23.  24.  25.  26.  27.\n",
      "  28.  29.  30.  31.  32.  33.  34.  35.  36.  37.  38.  39.  40.  41.\n",
      "  42.  43.  44.  45.  46.  47.  48.  49.  50.  51.  52.  53.  54.  55.\n",
      "  56.  57.  58.  59.  60.  61.  62.  63.  64.  65.  66.  67.  68.  69.\n",
      "  70.  71.  72.  73.  74.  75.  76.  77.  78.  79.  80.  81.  82.  83.\n",
      "  84.  85.  86.  87.  88.  89.  90.  91.  92.  93.  94.  95.  96.  97.\n",
      "  98.  99. 100. 101. 102. 103. 104. 105. 106. 107. 108. 109. 110. 111.\n",
      " 112. 113. 114. 115. 116. 117. 118. 119. 120. 121. 122. 123. 124. 125.\n",
      " 126. 127. 128. 129. 130. 131. 132. 133. 134. 135. 136. 137. 138. 139.\n",
      " 140. 141. 142. 143. 144. 145. 146. 147. 148. 149. 150. 151. 152. 153.\n",
      " 154. 155. 156. 157. 158. 159. 160. 161. 162. 163. 164. 165. 166. 167.\n",
      " 168. 169. 170. 171. 172. 173. 174. 175. 176. 177. 178. 179. 180. 181.\n",
      " 182. 183. 184. 185. 186. 187. 188. 189. 190. 191. 192. 193. 194. 195.\n",
      " 196. 197. 198. 199.]\n"
     ]
    }
   ],
   "source": [
    "s=np.array(np.linspace(0,199,200))\n",
    "print(s)"
   ]
  },
  {
   "cell_type": "code",
   "execution_count": 17,
   "id": "94dbbfc1",
   "metadata": {},
   "outputs": [
    {
     "data": {
      "text/plain": [
       "(200,)"
      ]
     },
     "execution_count": 17,
     "metadata": {},
     "output_type": "execute_result"
    }
   ],
   "source": [
    "s.shape"
   ]
  },
  {
   "cell_type": "code",
   "execution_count": 18,
   "id": "b91d66e2",
   "metadata": {
    "scrolled": true
   },
   "outputs": [
    {
     "data": {
      "text/plain": [
       "array([[  0.,   1.,   2.,   3.,   4.,   5.,   6.,   7.,   8.,   9.,  10.,\n",
       "         11.,  12.,  13.,  14.,  15.,  16.,  17.,  18.,  19.],\n",
       "       [ 20.,  21.,  22.,  23.,  24.,  25.,  26.,  27.,  28.,  29.,  30.,\n",
       "         31.,  32.,  33.,  34.,  35.,  36.,  37.,  38.,  39.],\n",
       "       [ 40.,  41.,  42.,  43.,  44.,  45.,  46.,  47.,  48.,  49.,  50.,\n",
       "         51.,  52.,  53.,  54.,  55.,  56.,  57.,  58.,  59.],\n",
       "       [ 60.,  61.,  62.,  63.,  64.,  65.,  66.,  67.,  68.,  69.,  70.,\n",
       "         71.,  72.,  73.,  74.,  75.,  76.,  77.,  78.,  79.],\n",
       "       [ 80.,  81.,  82.,  83.,  84.,  85.,  86.,  87.,  88.,  89.,  90.,\n",
       "         91.,  92.,  93.,  94.,  95.,  96.,  97.,  98.,  99.],\n",
       "       [100., 101., 102., 103., 104., 105., 106., 107., 108., 109., 110.,\n",
       "        111., 112., 113., 114., 115., 116., 117., 118., 119.],\n",
       "       [120., 121., 122., 123., 124., 125., 126., 127., 128., 129., 130.,\n",
       "        131., 132., 133., 134., 135., 136., 137., 138., 139.],\n",
       "       [140., 141., 142., 143., 144., 145., 146., 147., 148., 149., 150.,\n",
       "        151., 152., 153., 154., 155., 156., 157., 158., 159.],\n",
       "       [160., 161., 162., 163., 164., 165., 166., 167., 168., 169., 170.,\n",
       "        171., 172., 173., 174., 175., 176., 177., 178., 179.],\n",
       "       [180., 181., 182., 183., 184., 185., 186., 187., 188., 189., 190.,\n",
       "        191., 192., 193., 194., 195., 196., 197., 198., 199.]])"
      ]
     },
     "execution_count": 18,
     "metadata": {},
     "output_type": "execute_result"
    }
   ],
   "source": [
    "s.reshape(10, 20)"
   ]
  },
  {
   "cell_type": "code",
   "execution_count": 19,
   "id": "c361e647",
   "metadata": {},
   "outputs": [
    {
     "name": "stdout",
     "output_type": "stream",
     "text": [
      "[0.]\n"
     ]
    }
   ],
   "source": [
    "k=np.array(np.linspace(0,100,1))\n",
    "print(k)"
   ]
  },
  {
   "cell_type": "code",
   "execution_count": 20,
   "id": "574699ab",
   "metadata": {},
   "outputs": [],
   "source": [
    "import matplotlib.pyplot\n",
    "import scipy"
   ]
  },
  {
   "cell_type": "code",
   "execution_count": 21,
   "id": "0aea616e",
   "metadata": {},
   "outputs": [],
   "source": [
    "n5=np.arange(100,step=2)"
   ]
  },
  {
   "cell_type": "code",
   "execution_count": 22,
   "id": "f2e781e6",
   "metadata": {},
   "outputs": [],
   "source": [
    "n9=np.zeros(9)"
   ]
  },
  {
   "cell_type": "code",
   "execution_count": 23,
   "id": "9d5d5aaf",
   "metadata": {},
   "outputs": [],
   "source": [
    "n10=np.zeros((3,3),dtype=int)"
   ]
  },
  {
   "cell_type": "code",
   "execution_count": 24,
   "id": "608d3a65",
   "metadata": {},
   "outputs": [],
   "source": [
    "n3=np.linspace(1,10,100 ,dtype=int)"
   ]
  },
  {
   "cell_type": "code",
   "execution_count": 25,
   "id": "d3689681",
   "metadata": {},
   "outputs": [],
   "source": [
    "n1=np.eye(3,3,-1)"
   ]
  },
  {
   "cell_type": "code",
   "execution_count": 27,
   "id": "79f62686",
   "metadata": {},
   "outputs": [
    {
     "data": {
      "text/plain": [
       "array([[0.83090921, 0.46079342, 0.97669966, 0.42959452, 0.22539678,\n",
       "        0.81118785, 0.35689569],\n",
       "       [0.83079794, 0.20658572, 0.68298018, 0.66111096, 0.35993039,\n",
       "        0.98188297, 0.97253493],\n",
       "       [0.50552503, 0.36447864, 0.17807137, 0.2393055 , 0.89342029,\n",
       "        0.89396569, 0.81867498]])"
      ]
     },
     "execution_count": 27,
     "metadata": {},
     "output_type": "execute_result"
    }
   ],
   "source": [
    "np.random.rand(3,7)"
   ]
  },
  {
   "cell_type": "code",
   "execution_count": 28,
   "id": "26414090",
   "metadata": {},
   "outputs": [
    {
     "data": {
      "text/plain": [
       "array([[0.],\n",
       "       [1.]])"
      ]
     },
     "execution_count": 28,
     "metadata": {},
     "output_type": "execute_result"
    }
   ],
   "source": [
    "n1[1:3:,1:3:2]"
   ]
  },
  {
   "cell_type": "code",
   "execution_count": 29,
   "id": "fdba55ec",
   "metadata": {},
   "outputs": [
    {
     "data": {
      "text/plain": [
       "array([[0., 0.],\n",
       "       [1., 0.]])"
      ]
     },
     "execution_count": 29,
     "metadata": {},
     "output_type": "execute_result"
    }
   ],
   "source": [
    "n1[1:,1:]"
   ]
  },
  {
   "cell_type": "code",
   "execution_count": 30,
   "id": "1499a072",
   "metadata": {},
   "outputs": [],
   "source": [
    "n=np.arange(0,10)"
   ]
  },
  {
   "cell_type": "code",
   "execution_count": 31,
   "id": "afaed6b0",
   "metadata": {},
   "outputs": [
    {
     "data": {
      "text/plain": [
       "(10,)"
      ]
     },
     "execution_count": 31,
     "metadata": {},
     "output_type": "execute_result"
    }
   ],
   "source": [
    "n.shape"
   ]
  },
  {
   "cell_type": "code",
   "execution_count": 32,
   "id": "88bace8b",
   "metadata": {},
   "outputs": [],
   "source": [
    "n.resize(100)"
   ]
  },
  {
   "cell_type": "code",
   "execution_count": 33,
   "id": "d7ed4eea",
   "metadata": {},
   "outputs": [],
   "source": [
    "n1=np.arange(20)"
   ]
  },
  {
   "cell_type": "code",
   "execution_count": 34,
   "id": "4397a935",
   "metadata": {},
   "outputs": [],
   "source": [
    "n1.resize(100)"
   ]
  },
  {
   "cell_type": "code",
   "execution_count": 35,
   "id": "4835c9c0",
   "metadata": {},
   "outputs": [],
   "source": [
    "n1.resize(90)"
   ]
  },
  {
   "cell_type": "code",
   "execution_count": 36,
   "id": "a8e0b147",
   "metadata": {},
   "outputs": [],
   "source": [
    "refcheck=False"
   ]
  },
  {
   "cell_type": "code",
   "execution_count": 43,
   "id": "6f89c432",
   "metadata": {},
   "outputs": [],
   "source": [
    "import matplotlib.pyplot as plt\n",
    "import warnings"
   ]
  },
  {
   "cell_type": "code",
   "execution_count": 44,
   "id": "a8303c36",
   "metadata": {},
   "outputs": [
    {
     "data": {
      "text/plain": [
       "Text(0, 0.5, 'kjsd')"
      ]
     },
     "execution_count": 44,
     "metadata": {},
     "output_type": "execute_result"
    },
    {
     "data": {
      "image/png": "[encoded data removed]",
      "text/plain": [
       "<Figure size 432x288 with 1 Axes>"
      ]
     },
     "metadata": {
      "needs_background": "light"
     },
     "output_type": "display_data"
    }
   ],
   "source": [
    "plt.plot([1,2,3],[4,5,1],scalex=False,scaley=False)\n",
    "plt.xlabel(\"list\")\n",
    "plt.ylabel(\"kjsd\")"
   ]
  },
  {
   "cell_type": "code",
   "execution_count": 45,
   "id": "643c81a2",
   "metadata": {},
   "outputs": [
    {
     "data": {
      "text/plain": [
       "[<matplotlib.lines.Line2D at 0x1525f021ac0>,\n",
       " <matplotlib.lines.Line2D at 0x1525f021b80>]"
      ]
     },
     "execution_count": 45,
     "metadata": {},
     "output_type": "execute_result"
    },
    {
     "data": {
      "image/png": "[encoded data removed]",
      "text/plain": [
       "<Figure size 432x288 with 1 Axes>"
      ]
     },
     "metadata": {
      "needs_background": "light"
     },
     "output_type": "display_data"
    }
   ],
   "source": [
    "plt.plot([1,2,3,4,5],\"x:\",[4,5,6,7,8],\"g+\",markersize=20,markevery=2)"
   ]
  },
  {
   "cell_type": "code",
   "execution_count": 46,
   "id": "cb35e1f3",
   "metadata": {},
   "outputs": [
    {
     "data": {
      "image/png": "[encoded data removed]",
      "text/plain": [
       "<Figure size 432x288 with 1 Axes>"
      ]
     },
     "metadata": {
      "needs_background": "light"
     },
     "output_type": "display_data"
    }
   ],
   "source": [
    "plt.plot([1,2,3,4,5])\n",
    "plt.minorticks_on()\n",
    "plt.xlim(0,4)\n",
    "plt.grid(which=\"major\")"
   ]
  },
  {
   "cell_type": "code",
   "execution_count": 47,
   "id": "6bbd1368",
   "metadata": {},
   "outputs": [
    {
     "data": {
      "image/png": "[encoded data removed]",
      "text/plain": [
       "<Figure size 432x288 with 1 Axes>"
      ]
     },
     "metadata": {
      "needs_background": "light"
     },
     "output_type": "display_data"
    }
   ],
   "source": [
    "line1,=plt.plot([1,2,3,4],\"r:\")\n",
    "line2,=plt.plot([5,6,7,8],\"g\")\n",
    "plt.legend([line1,line2],[\"numnerr\",\"numebr\"],ncol=2)\n",
    "plt.show()"
   ]
  }
 ],
 "metadata": {
  "kernelspec": {
   "display_name": "Python 3 (ipykernel)",
   "language": "python",
   "name": "python3"
  },
  "language_info": {
   "codemirror_mode": {
    "name": "ipython",
    "version": 3
   },
   "file_extension": ".py",
   "mimetype": "text/x-python",
   "name": "python",
   "nbconvert_exporter": "python",
   "pygments_lexer": "ipython3",
   "version": "3.9.7"
  }
 },
 "nbformat": 4,
 "nbformat_minor": 5
}
